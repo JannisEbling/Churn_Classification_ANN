{
 "cells": [
  {
   "cell_type": "markdown",
   "metadata": {},
   "source": [
    "### Determining the optimal number of hidden layers and neurons for an Artificial Neural Network (ANN) \n",
    "This can be challenging and often requires experimentation. However, there are some guidelines and methods that can help you in making an informed decision:\n",
    "\n",
    "- Start Simple: Begin with a simple architecture and gradually increase complexity if needed.\n",
    "- Grid Search/Random Search: Use grid search or random search to try different architectures.\n",
    "- Cross-Validation: Use cross-validation to evaluate the performance of different architectures.\n",
    "- Heuristics and Rules of Thumb: Some heuristics and empirical rules can provide starting points, such as:\n",
    "  -    The number of neurons in the hidden layer should be between the size of the input layer and the size of the output layer.\n",
    "  -  A common practice is to start with 1-2 hidden layers."
   ]
  },
  {
   "cell_type": "code",
   "execution_count": 21,
   "metadata": {},
   "outputs": [],
   "source": [
    "import pandas as pd\n",
    "from sklearn.model_selection import train_test_split, GridSearchCV\n",
    "from sklearn.preprocessing import StandardScaler, LabelEncoder, OneHotEncoder\n",
    "from sklearn.pipeline import Pipeline\n",
    "from scikeras.wrappers import KerasClassifier\n",
    "import tensorflow as tf\n",
    "from tensorflow.keras.models import Sequential\n",
    "from tensorflow.keras.layers import Dense\n",
    "from tensorflow.keras.callbacks import EarlyStopping\n",
    "import pickle"
   ]
  },
  {
   "cell_type": "markdown",
   "metadata": {},
   "source": [
    "### Data Preprocessing"
   ]
  },
  {
   "cell_type": "code",
   "execution_count": 22,
   "metadata": {},
   "outputs": [],
   "source": [
    "data=pd.read_csv('Churn_Modelling.csv')\n",
    "data = data.drop(['RowNumber', 'CustomerId', 'Surname'], axis=1)\n",
    "\n",
    "label_encoder_gender = LabelEncoder()\n",
    "data['Gender'] = label_encoder_gender.fit_transform(data['Gender'])\n",
    "\n",
    "onehot_encoder_geo = OneHotEncoder(handle_unknown='ignore')\n",
    "geo_encoded = onehot_encoder_geo.fit_transform(data[['Geography']]).toarray()\n",
    "geo_encoded_df = pd.DataFrame(geo_encoded, columns=onehot_encoder_geo.get_feature_names_out(['Geography']))\n",
    "\n",
    "data = pd.concat([data.drop('Geography', axis=1), geo_encoded_df], axis=1)\n",
    "\n",
    "X = data.drop('Exited', axis=1)\n",
    "y = data['Exited']\n",
    "\n",
    "X_train, X_test, y_train, y_test = train_test_split(X, y, test_size=0.2, random_state=42)\n",
    "\n",
    "scaler = StandardScaler()\n",
    "X_train = scaler.fit_transform(X_train)\n",
    "X_test = scaler.transform(X_test)"
   ]
  },
  {
   "cell_type": "markdown",
   "metadata": {},
   "source": [
    "### Set Up to automatically create models"
   ]
  },
  {
   "cell_type": "code",
   "execution_count": 23,
   "metadata": {},
   "outputs": [],
   "source": [
    "from tensorflow.keras.metrics import Precision\n",
    "\n",
    "def create_model(neurons=32,layers=1):\n",
    "\n",
    "\n",
    "    model=Sequential()\n",
    "\n",
    "\n",
    "    model.add(Dense(neurons,activation='relu',input_shape=(X_train.shape[1],)))\n",
    "\n",
    "\n",
    "    for _ in range(layers-1):\n",
    "\n",
    "\n",
    "        model.add(Dense(neurons,activation='relu'))\n",
    "\n",
    "\n",
    "    model.add(Dense(1,activation='sigmoid'))\n",
    "\n",
    "\n",
    "    model.compile(optimizer=\"adam\", loss=\"binary_crossentropy\", metrics=[Precision()])\n",
    "\n",
    "    return model"
   ]
  },
  {
   "cell_type": "code",
   "execution_count": 24,
   "metadata": {},
   "outputs": [],
   "source": [
    "model=KerasClassifier(layers=1,neurons=32,build_fn=create_model,verbose=1)"
   ]
  },
  {
   "cell_type": "markdown",
   "metadata": {},
   "source": [
    "### Define parameters to test"
   ]
  },
  {
   "cell_type": "code",
   "execution_count": 25,
   "metadata": {},
   "outputs": [],
   "source": [
    "param_grid = {\n",
    "    'neurons': [16, 32, 64, 128],\n",
    "    'layers': [1, 2],\n",
    "    'epochs': [50, 100]\n",
    "}"
   ]
  },
  {
   "cell_type": "markdown",
   "metadata": {},
   "source": [
    "### Perform Hyperparameter search "
   ]
  },
  {
   "cell_type": "code",
   "execution_count": 26,
   "metadata": {},
   "outputs": [
    {
     "name": "stdout",
     "output_type": "stream",
     "text": [
      "Fitting 3 folds for each of 2 candidates, totalling 6 fits\n",
      "Epoch 1/50\n"
     ]
    },
    {
     "name": "stderr",
     "output_type": "stream",
     "text": [
      "c:\\Projekte\\Data_Science\\annclassification\\venv\\lib\\site-packages\\scikeras\\wrappers.py:915: UserWarning: ``build_fn`` will be renamed to ``model`` in a future release, at which point use of ``build_fn`` will raise an Error instead.\n",
      "  X, y = self._initialize(X, y)\n"
     ]
    },
    {
     "name": "stdout",
     "output_type": "stream",
     "text": [
      "250/250 [==============================] - 1s 912us/step - loss: 0.5775 - precision: 0.1820\n",
      "Epoch 2/50\n",
      "250/250 [==============================] - 0s 1ms/step - loss: 0.4504 - precision: 0.7629\n",
      "Epoch 3/50\n",
      "250/250 [==============================] - 0s 936us/step - loss: 0.4261 - precision: 0.6594\n",
      "Epoch 4/50\n",
      "250/250 [==============================] - 0s 1ms/step - loss: 0.4116 - precision: 0.6860\n",
      "Epoch 5/50\n",
      "250/250 [==============================] - 0s 970us/step - loss: 0.3975 - precision: 0.7287\n",
      "Epoch 6/50\n",
      "250/250 [==============================] - 0s 1ms/step - loss: 0.3849 - precision: 0.7454\n",
      "Epoch 7/50\n",
      "250/250 [==============================] - 0s 1ms/step - loss: 0.3744 - precision: 0.7440\n",
      "Epoch 8/50\n",
      "250/250 [==============================] - 0s 1ms/step - loss: 0.3662 - precision: 0.7531\n",
      "Epoch 9/50\n",
      "250/250 [==============================] - 0s 996us/step - loss: 0.3601 - precision: 0.7667\n",
      "Epoch 10/50\n",
      "250/250 [==============================] - 0s 1ms/step - loss: 0.3562 - precision: 0.7459\n",
      "Epoch 11/50\n",
      "250/250 [==============================] - 0s 933us/step - loss: 0.3531 - precision: 0.7578\n",
      "Epoch 12/50\n",
      "250/250 [==============================] - 0s 968us/step - loss: 0.3505 - precision: 0.7498\n",
      "Epoch 13/50\n",
      "250/250 [==============================] - 0s 1ms/step - loss: 0.3488 - precision: 0.7532\n",
      "Epoch 14/50\n",
      "250/250 [==============================] - 0s 1ms/step - loss: 0.3468 - precision: 0.7548\n",
      "Epoch 15/50\n",
      "250/250 [==============================] - 0s 1ms/step - loss: 0.3457 - precision: 0.7456\n",
      "Epoch 16/50\n",
      "250/250 [==============================] - 0s 1ms/step - loss: 0.3447 - precision: 0.7612\n",
      "Epoch 17/50\n",
      "250/250 [==============================] - 0s 1ms/step - loss: 0.3436 - precision: 0.7572\n",
      "Epoch 18/50\n",
      "250/250 [==============================] - 0s 1ms/step - loss: 0.3425 - precision: 0.7546\n",
      "Epoch 19/50\n",
      "250/250 [==============================] - 0s 1ms/step - loss: 0.3420 - precision: 0.7646\n",
      "Epoch 20/50\n",
      "250/250 [==============================] - 0s 1ms/step - loss: 0.3414 - precision: 0.7602\n",
      "Epoch 21/50\n",
      "250/250 [==============================] - 0s 1ms/step - loss: 0.3411 - precision: 0.7630\n",
      "Epoch 22/50\n",
      "250/250 [==============================] - 0s 1ms/step - loss: 0.3404 - precision: 0.7596\n",
      "Epoch 23/50\n",
      "250/250 [==============================] - 0s 1ms/step - loss: 0.3401 - precision: 0.7500\n",
      "Epoch 24/50\n",
      "250/250 [==============================] - 0s 1ms/step - loss: 0.3394 - precision: 0.7619\n",
      "Epoch 25/50\n",
      "250/250 [==============================] - 0s 952us/step - loss: 0.3394 - precision: 0.7684\n",
      "Epoch 26/50\n",
      "250/250 [==============================] - 0s 916us/step - loss: 0.3391 - precision: 0.7553\n",
      "Epoch 27/50\n",
      "250/250 [==============================] - 0s 976us/step - loss: 0.3385 - precision: 0.7729\n",
      "Epoch 28/50\n",
      "250/250 [==============================] - 0s 991us/step - loss: 0.3384 - precision: 0.7607\n",
      "Epoch 29/50\n",
      "250/250 [==============================] - 0s 943us/step - loss: 0.3380 - precision: 0.7594\n",
      "Epoch 30/50\n",
      "250/250 [==============================] - 0s 861us/step - loss: 0.3376 - precision: 0.7691\n",
      "Epoch 31/50\n",
      "250/250 [==============================] - 0s 916us/step - loss: 0.3370 - precision: 0.7575\n",
      "Epoch 32/50\n",
      "250/250 [==============================] - 0s 904us/step - loss: 0.3371 - precision: 0.7638\n",
      "Epoch 33/50\n",
      "250/250 [==============================] - 0s 952us/step - loss: 0.3369 - precision: 0.7715\n",
      "Epoch 34/50\n",
      "250/250 [==============================] - 0s 1ms/step - loss: 0.3366 - precision: 0.7649\n",
      "Epoch 35/50\n",
      "250/250 [==============================] - 0s 964us/step - loss: 0.3360 - precision: 0.7598\n",
      "Epoch 36/50\n",
      "250/250 [==============================] - 0s 940us/step - loss: 0.3360 - precision: 0.7780\n",
      "Epoch 37/50\n",
      "250/250 [==============================] - 0s 1ms/step - loss: 0.3353 - precision: 0.7507\n",
      "Epoch 38/50\n",
      "250/250 [==============================] - 0s 1ms/step - loss: 0.3351 - precision: 0.7714\n",
      "Epoch 39/50\n",
      "250/250 [==============================] - 0s 952us/step - loss: 0.3350 - precision: 0.7625\n",
      "Epoch 40/50\n",
      "250/250 [==============================] - 0s 1ms/step - loss: 0.3346 - precision: 0.7676\n",
      "Epoch 41/50\n",
      "250/250 [==============================] - 0s 924us/step - loss: 0.3347 - precision: 0.7654\n",
      "Epoch 42/50\n",
      "250/250 [==============================] - 0s 968us/step - loss: 0.3344 - precision: 0.7650\n",
      "Epoch 43/50\n",
      "250/250 [==============================] - 0s 1ms/step - loss: 0.3338 - precision: 0.7852\n",
      "Epoch 44/50\n",
      "250/250 [==============================] - 0s 1ms/step - loss: 0.3337 - precision: 0.7710\n",
      "Epoch 45/50\n",
      "250/250 [==============================] - 0s 1ms/step - loss: 0.3335 - precision: 0.7708\n",
      "Epoch 46/50\n",
      "250/250 [==============================] - 0s 1ms/step - loss: 0.3337 - precision: 0.7589\n",
      "Epoch 47/50\n",
      "250/250 [==============================] - 0s 2ms/step - loss: 0.3332 - precision: 0.7764\n",
      "Epoch 48/50\n",
      "250/250 [==============================] - 0s 1ms/step - loss: 0.3328 - precision: 0.7549\n",
      "Epoch 49/50\n",
      "250/250 [==============================] - 0s 1ms/step - loss: 0.3329 - precision: 0.7788\n",
      "Epoch 50/50\n",
      "250/250 [==============================] - 0s 1ms/step - loss: 0.3322 - precision: 0.7605\n",
      "Best: 0.854999 using {'epochs': 50, 'layers': 1, 'neurons': 16}\n"
     ]
    }
   ],
   "source": [
    "grid = GridSearchCV(estimator=model, param_grid=param_grid, n_jobs=-1, cv=3,verbose=1)\n",
    "grid_result = grid.fit(X_train, y_train)\n",
    "\n",
    "print(\"Best: %f using %s\" % (grid_result.best_score_, grid_result.best_params_))"
   ]
  },
  {
   "cell_type": "code",
   "execution_count": 27,
   "metadata": {},
   "outputs": [
    {
     "name": "stdout",
     "output_type": "stream",
     "text": [
      "INFO:tensorflow:Assets written to: C:\\Users\\je009447\\AppData\\Local\\Temp\\tmpsuu9uew9\\assets\n"
     ]
    },
    {
     "name": "stderr",
     "output_type": "stream",
     "text": [
      "INFO:tensorflow:Assets written to: C:\\Users\\je009447\\AppData\\Local\\Temp\\tmpsuu9uew9\\assets\n"
     ]
    }
   ],
   "source": [
    "best_model = grid_result.best_estimator_\n",
    "with open(\"best_model.pkl\", \"wb\") as f:\n",
    "    pickle.dump(best_model, f)"
   ]
  }
 ],
 "metadata": {
  "kernelspec": {
   "display_name": "Python 3",
   "language": "python",
   "name": "python3"
  },
  "language_info": {
   "codemirror_mode": {
    "name": "ipython",
    "version": 3
   },
   "file_extension": ".py",
   "mimetype": "text/x-python",
   "name": "python",
   "nbconvert_exporter": "python",
   "pygments_lexer": "ipython3",
   "version": "3.10.0"
  }
 },
 "nbformat": 4,
 "nbformat_minor": 2
}
