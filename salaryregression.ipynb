{
 "cells": [
  {
   "cell_type": "code",
   "execution_count": 11,
   "metadata": {},
   "outputs": [],
   "source": [
    "import pandas as pd\n",
    "from sklearn.model_selection import train_test_split\n",
    "from sklearn.preprocessing import StandardScaler, LabelEncoder, OneHotEncoder\n",
    "import pickle"
   ]
  },
  {
   "cell_type": "code",
   "execution_count": 12,
   "metadata": {},
   "outputs": [
    {
     "data": {
      "text/html": [
       "<div>\n",
       "<style scoped>\n",
       "    .dataframe tbody tr th:only-of-type {\n",
       "        vertical-align: middle;\n",
       "    }\n",
       "\n",
       "    .dataframe tbody tr th {\n",
       "        vertical-align: top;\n",
       "    }\n",
       "\n",
       "    .dataframe thead th {\n",
       "        text-align: right;\n",
       "    }\n",
       "</style>\n",
       "<table border=\"1\" class=\"dataframe\">\n",
       "  <thead>\n",
       "    <tr style=\"text-align: right;\">\n",
       "      <th></th>\n",
       "      <th>RowNumber</th>\n",
       "      <th>CustomerId</th>\n",
       "      <th>Surname</th>\n",
       "      <th>CreditScore</th>\n",
       "      <th>Geography</th>\n",
       "      <th>Gender</th>\n",
       "      <th>Age</th>\n",
       "      <th>Tenure</th>\n",
       "      <th>Balance</th>\n",
       "      <th>NumOfProducts</th>\n",
       "      <th>HasCrCard</th>\n",
       "      <th>IsActiveMember</th>\n",
       "      <th>EstimatedSalary</th>\n",
       "      <th>Exited</th>\n",
       "    </tr>\n",
       "  </thead>\n",
       "  <tbody>\n",
       "    <tr>\n",
       "      <th>0</th>\n",
       "      <td>1</td>\n",
       "      <td>15634602</td>\n",
       "      <td>Hargrave</td>\n",
       "      <td>619</td>\n",
       "      <td>France</td>\n",
       "      <td>Female</td>\n",
       "      <td>42</td>\n",
       "      <td>2</td>\n",
       "      <td>0.00</td>\n",
       "      <td>1</td>\n",
       "      <td>1</td>\n",
       "      <td>1</td>\n",
       "      <td>101348.88</td>\n",
       "      <td>1</td>\n",
       "    </tr>\n",
       "    <tr>\n",
       "      <th>1</th>\n",
       "      <td>2</td>\n",
       "      <td>15647311</td>\n",
       "      <td>Hill</td>\n",
       "      <td>608</td>\n",
       "      <td>Spain</td>\n",
       "      <td>Female</td>\n",
       "      <td>41</td>\n",
       "      <td>1</td>\n",
       "      <td>83807.86</td>\n",
       "      <td>1</td>\n",
       "      <td>0</td>\n",
       "      <td>1</td>\n",
       "      <td>112542.58</td>\n",
       "      <td>0</td>\n",
       "    </tr>\n",
       "    <tr>\n",
       "      <th>2</th>\n",
       "      <td>3</td>\n",
       "      <td>15619304</td>\n",
       "      <td>Onio</td>\n",
       "      <td>502</td>\n",
       "      <td>France</td>\n",
       "      <td>Female</td>\n",
       "      <td>42</td>\n",
       "      <td>8</td>\n",
       "      <td>159660.80</td>\n",
       "      <td>3</td>\n",
       "      <td>1</td>\n",
       "      <td>0</td>\n",
       "      <td>113931.57</td>\n",
       "      <td>1</td>\n",
       "    </tr>\n",
       "    <tr>\n",
       "      <th>3</th>\n",
       "      <td>4</td>\n",
       "      <td>15701354</td>\n",
       "      <td>Boni</td>\n",
       "      <td>699</td>\n",
       "      <td>France</td>\n",
       "      <td>Female</td>\n",
       "      <td>39</td>\n",
       "      <td>1</td>\n",
       "      <td>0.00</td>\n",
       "      <td>2</td>\n",
       "      <td>0</td>\n",
       "      <td>0</td>\n",
       "      <td>93826.63</td>\n",
       "      <td>0</td>\n",
       "    </tr>\n",
       "    <tr>\n",
       "      <th>4</th>\n",
       "      <td>5</td>\n",
       "      <td>15737888</td>\n",
       "      <td>Mitchell</td>\n",
       "      <td>850</td>\n",
       "      <td>Spain</td>\n",
       "      <td>Female</td>\n",
       "      <td>43</td>\n",
       "      <td>2</td>\n",
       "      <td>125510.82</td>\n",
       "      <td>1</td>\n",
       "      <td>1</td>\n",
       "      <td>1</td>\n",
       "      <td>79084.10</td>\n",
       "      <td>0</td>\n",
       "    </tr>\n",
       "  </tbody>\n",
       "</table>\n",
       "</div>"
      ],
      "text/plain": [
       "   RowNumber  CustomerId   Surname  CreditScore Geography  Gender  Age  \\\n",
       "0          1    15634602  Hargrave          619    France  Female   42   \n",
       "1          2    15647311      Hill          608     Spain  Female   41   \n",
       "2          3    15619304      Onio          502    France  Female   42   \n",
       "3          4    15701354      Boni          699    France  Female   39   \n",
       "4          5    15737888  Mitchell          850     Spain  Female   43   \n",
       "\n",
       "   Tenure    Balance  NumOfProducts  HasCrCard  IsActiveMember  \\\n",
       "0       2       0.00              1          1               1   \n",
       "1       1   83807.86              1          0               1   \n",
       "2       8  159660.80              3          1               0   \n",
       "3       1       0.00              2          0               0   \n",
       "4       2  125510.82              1          1               1   \n",
       "\n",
       "   EstimatedSalary  Exited  \n",
       "0        101348.88       1  \n",
       "1        112542.58       0  \n",
       "2        113931.57       1  \n",
       "3         93826.63       0  \n",
       "4         79084.10       0  "
      ]
     },
     "execution_count": 12,
     "metadata": {},
     "output_type": "execute_result"
    }
   ],
   "source": [
    "data=pd.read_csv('Churn_Modelling.csv')\n",
    "data.head()"
   ]
  },
  {
   "cell_type": "markdown",
   "metadata": {},
   "source": [
    "## Preprocess the data\n",
    "\n",
    "### Drop unimportant features"
   ]
  },
  {
   "cell_type": "code",
   "execution_count": 13,
   "metadata": {},
   "outputs": [],
   "source": [
    "data = data.drop(['RowNumber', 'CustomerId', 'Surname'], axis=1)"
   ]
  },
  {
   "cell_type": "markdown",
   "metadata": {},
   "source": [
    "### Encode categorical variables"
   ]
  },
  {
   "cell_type": "code",
   "execution_count": 14,
   "metadata": {},
   "outputs": [],
   "source": [
    "label_encoder_gender = LabelEncoder()\n",
    "data['Gender'] = label_encoder_gender.fit_transform(data['Gender'])"
   ]
  },
  {
   "cell_type": "markdown",
   "metadata": {},
   "source": [
    "### Onehot encode 'Geography"
   ]
  },
  {
   "cell_type": "code",
   "execution_count": 15,
   "metadata": {},
   "outputs": [
    {
     "data": {
      "text/html": [
       "<div>\n",
       "<style scoped>\n",
       "    .dataframe tbody tr th:only-of-type {\n",
       "        vertical-align: middle;\n",
       "    }\n",
       "\n",
       "    .dataframe tbody tr th {\n",
       "        vertical-align: top;\n",
       "    }\n",
       "\n",
       "    .dataframe thead th {\n",
       "        text-align: right;\n",
       "    }\n",
       "</style>\n",
       "<table border=\"1\" class=\"dataframe\">\n",
       "  <thead>\n",
       "    <tr style=\"text-align: right;\">\n",
       "      <th></th>\n",
       "      <th>Geography_France</th>\n",
       "      <th>Geography_Germany</th>\n",
       "      <th>Geography_Spain</th>\n",
       "    </tr>\n",
       "  </thead>\n",
       "  <tbody>\n",
       "    <tr>\n",
       "      <th>0</th>\n",
       "      <td>1.0</td>\n",
       "      <td>0.0</td>\n",
       "      <td>0.0</td>\n",
       "    </tr>\n",
       "    <tr>\n",
       "      <th>1</th>\n",
       "      <td>0.0</td>\n",
       "      <td>0.0</td>\n",
       "      <td>1.0</td>\n",
       "    </tr>\n",
       "    <tr>\n",
       "      <th>2</th>\n",
       "      <td>1.0</td>\n",
       "      <td>0.0</td>\n",
       "      <td>0.0</td>\n",
       "    </tr>\n",
       "    <tr>\n",
       "      <th>3</th>\n",
       "      <td>1.0</td>\n",
       "      <td>0.0</td>\n",
       "      <td>0.0</td>\n",
       "    </tr>\n",
       "    <tr>\n",
       "      <th>4</th>\n",
       "      <td>0.0</td>\n",
       "      <td>0.0</td>\n",
       "      <td>1.0</td>\n",
       "    </tr>\n",
       "    <tr>\n",
       "      <th>...</th>\n",
       "      <td>...</td>\n",
       "      <td>...</td>\n",
       "      <td>...</td>\n",
       "    </tr>\n",
       "    <tr>\n",
       "      <th>9995</th>\n",
       "      <td>1.0</td>\n",
       "      <td>0.0</td>\n",
       "      <td>0.0</td>\n",
       "    </tr>\n",
       "    <tr>\n",
       "      <th>9996</th>\n",
       "      <td>1.0</td>\n",
       "      <td>0.0</td>\n",
       "      <td>0.0</td>\n",
       "    </tr>\n",
       "    <tr>\n",
       "      <th>9997</th>\n",
       "      <td>1.0</td>\n",
       "      <td>0.0</td>\n",
       "      <td>0.0</td>\n",
       "    </tr>\n",
       "    <tr>\n",
       "      <th>9998</th>\n",
       "      <td>0.0</td>\n",
       "      <td>1.0</td>\n",
       "      <td>0.0</td>\n",
       "    </tr>\n",
       "    <tr>\n",
       "      <th>9999</th>\n",
       "      <td>1.0</td>\n",
       "      <td>0.0</td>\n",
       "      <td>0.0</td>\n",
       "    </tr>\n",
       "  </tbody>\n",
       "</table>\n",
       "<p>10000 rows × 3 columns</p>\n",
       "</div>"
      ],
      "text/plain": [
       "      Geography_France  Geography_Germany  Geography_Spain\n",
       "0                  1.0                0.0              0.0\n",
       "1                  0.0                0.0              1.0\n",
       "2                  1.0                0.0              0.0\n",
       "3                  1.0                0.0              0.0\n",
       "4                  0.0                0.0              1.0\n",
       "...                ...                ...              ...\n",
       "9995               1.0                0.0              0.0\n",
       "9996               1.0                0.0              0.0\n",
       "9997               1.0                0.0              0.0\n",
       "9998               0.0                1.0              0.0\n",
       "9999               1.0                0.0              0.0\n",
       "\n",
       "[10000 rows x 3 columns]"
      ]
     },
     "execution_count": 15,
     "metadata": {},
     "output_type": "execute_result"
    }
   ],
   "source": [
    "onehot_encoder_geo = OneHotEncoder(handle_unknown='ignore')\n",
    "geo_encoded = onehot_encoder_geo.fit_transform(data[['Geography']]).toarray()\n",
    "geo_encoded_df = pd.DataFrame(geo_encoded, columns=onehot_encoder_geo.get_feature_names_out(['Geography']))\n",
    "geo_encoded_df\n"
   ]
  },
  {
   "cell_type": "code",
   "execution_count": 16,
   "metadata": {},
   "outputs": [
    {
     "data": {
      "text/html": [
       "<div>\n",
       "<style scoped>\n",
       "    .dataframe tbody tr th:only-of-type {\n",
       "        vertical-align: middle;\n",
       "    }\n",
       "\n",
       "    .dataframe tbody tr th {\n",
       "        vertical-align: top;\n",
       "    }\n",
       "\n",
       "    .dataframe thead th {\n",
       "        text-align: right;\n",
       "    }\n",
       "</style>\n",
       "<table border=\"1\" class=\"dataframe\">\n",
       "  <thead>\n",
       "    <tr style=\"text-align: right;\">\n",
       "      <th></th>\n",
       "      <th>CreditScore</th>\n",
       "      <th>Gender</th>\n",
       "      <th>Age</th>\n",
       "      <th>Tenure</th>\n",
       "      <th>Balance</th>\n",
       "      <th>NumOfProducts</th>\n",
       "      <th>HasCrCard</th>\n",
       "      <th>IsActiveMember</th>\n",
       "      <th>EstimatedSalary</th>\n",
       "      <th>Exited</th>\n",
       "      <th>Geography_France</th>\n",
       "      <th>Geography_Germany</th>\n",
       "      <th>Geography_Spain</th>\n",
       "    </tr>\n",
       "  </thead>\n",
       "  <tbody>\n",
       "    <tr>\n",
       "      <th>0</th>\n",
       "      <td>619</td>\n",
       "      <td>0</td>\n",
       "      <td>42</td>\n",
       "      <td>2</td>\n",
       "      <td>0.00</td>\n",
       "      <td>1</td>\n",
       "      <td>1</td>\n",
       "      <td>1</td>\n",
       "      <td>101348.88</td>\n",
       "      <td>1</td>\n",
       "      <td>1.0</td>\n",
       "      <td>0.0</td>\n",
       "      <td>0.0</td>\n",
       "    </tr>\n",
       "    <tr>\n",
       "      <th>1</th>\n",
       "      <td>608</td>\n",
       "      <td>0</td>\n",
       "      <td>41</td>\n",
       "      <td>1</td>\n",
       "      <td>83807.86</td>\n",
       "      <td>1</td>\n",
       "      <td>0</td>\n",
       "      <td>1</td>\n",
       "      <td>112542.58</td>\n",
       "      <td>0</td>\n",
       "      <td>0.0</td>\n",
       "      <td>0.0</td>\n",
       "      <td>1.0</td>\n",
       "    </tr>\n",
       "    <tr>\n",
       "      <th>2</th>\n",
       "      <td>502</td>\n",
       "      <td>0</td>\n",
       "      <td>42</td>\n",
       "      <td>8</td>\n",
       "      <td>159660.80</td>\n",
       "      <td>3</td>\n",
       "      <td>1</td>\n",
       "      <td>0</td>\n",
       "      <td>113931.57</td>\n",
       "      <td>1</td>\n",
       "      <td>1.0</td>\n",
       "      <td>0.0</td>\n",
       "      <td>0.0</td>\n",
       "    </tr>\n",
       "    <tr>\n",
       "      <th>3</th>\n",
       "      <td>699</td>\n",
       "      <td>0</td>\n",
       "      <td>39</td>\n",
       "      <td>1</td>\n",
       "      <td>0.00</td>\n",
       "      <td>2</td>\n",
       "      <td>0</td>\n",
       "      <td>0</td>\n",
       "      <td>93826.63</td>\n",
       "      <td>0</td>\n",
       "      <td>1.0</td>\n",
       "      <td>0.0</td>\n",
       "      <td>0.0</td>\n",
       "    </tr>\n",
       "    <tr>\n",
       "      <th>4</th>\n",
       "      <td>850</td>\n",
       "      <td>0</td>\n",
       "      <td>43</td>\n",
       "      <td>2</td>\n",
       "      <td>125510.82</td>\n",
       "      <td>1</td>\n",
       "      <td>1</td>\n",
       "      <td>1</td>\n",
       "      <td>79084.10</td>\n",
       "      <td>0</td>\n",
       "      <td>0.0</td>\n",
       "      <td>0.0</td>\n",
       "      <td>1.0</td>\n",
       "    </tr>\n",
       "  </tbody>\n",
       "</table>\n",
       "</div>"
      ],
      "text/plain": [
       "   CreditScore  Gender  Age  Tenure    Balance  NumOfProducts  HasCrCard  \\\n",
       "0          619       0   42       2       0.00              1          1   \n",
       "1          608       0   41       1   83807.86              1          0   \n",
       "2          502       0   42       8  159660.80              3          1   \n",
       "3          699       0   39       1       0.00              2          0   \n",
       "4          850       0   43       2  125510.82              1          1   \n",
       "\n",
       "   IsActiveMember  EstimatedSalary  Exited  Geography_France  \\\n",
       "0               1        101348.88       1               1.0   \n",
       "1               1        112542.58       0               0.0   \n",
       "2               0        113931.57       1               1.0   \n",
       "3               0         93826.63       0               1.0   \n",
       "4               1         79084.10       0               0.0   \n",
       "\n",
       "   Geography_Germany  Geography_Spain  \n",
       "0                0.0              0.0  \n",
       "1                0.0              1.0  \n",
       "2                0.0              0.0  \n",
       "3                0.0              0.0  \n",
       "4                0.0              1.0  "
      ]
     },
     "execution_count": 16,
     "metadata": {},
     "output_type": "execute_result"
    }
   ],
   "source": [
    "data = pd.concat([data.drop('Geography', axis=1), geo_encoded_df], axis=1)\n",
    "data.head()"
   ]
  },
  {
   "cell_type": "markdown",
   "metadata": {},
   "source": [
    "### Train Test Split"
   ]
  },
  {
   "cell_type": "code",
   "execution_count": 17,
   "metadata": {},
   "outputs": [],
   "source": [
    "X = data.drop('EstimatedSalary', axis=1)\n",
    "y = data['EstimatedSalary']\n",
    "\n",
    "X_train, X_test, y_train, y_test = train_test_split(\n",
    "    X, y, test_size=0.2, random_state=42\n",
    ")"
   ]
  },
  {
   "cell_type": "markdown",
   "metadata": {},
   "source": [
    "### Scale the data"
   ]
  },
  {
   "cell_type": "code",
   "execution_count": 18,
   "metadata": {},
   "outputs": [],
   "source": [
    "scaler=StandardScaler()\n",
    "X_train=scaler.fit_transform(X_train)\n",
    "X_test=scaler.transform(X_test)"
   ]
  },
  {
   "cell_type": "markdown",
   "metadata": {},
   "source": [
    "### Save the encoders and scaler"
   ]
  },
  {
   "cell_type": "code",
   "execution_count": 19,
   "metadata": {},
   "outputs": [],
   "source": [
    "with open('models_regression/label_encoder_gender.pkl', 'wb') as file:\n",
    "    pickle.dump(label_encoder_gender, file)\n",
    "\n",
    "with open(\"models_regression/onehot_encoder_geo.pkl\", \"wb\") as file:\n",
    "    pickle.dump(onehot_encoder_geo, file)\n",
    "\n",
    "with open(\"models_regression/scaler.pkl\", \"wb\") as file:\n",
    "    pickle.dump(scaler, file)"
   ]
  },
  {
   "cell_type": "markdown",
   "metadata": {},
   "source": [
    "## ANN Implementation"
   ]
  },
  {
   "cell_type": "code",
   "execution_count": 20,
   "metadata": {},
   "outputs": [
    {
     "name": "stdout",
     "output_type": "stream",
     "text": [
      "WARNING:tensorflow:From c:\\Projekte\\Data_Science\\annclassification\\venv\\lib\\site-packages\\keras\\src\\losses.py:2976: The name tf.losses.sparse_softmax_cross_entropy is deprecated. Please use tf.compat.v1.losses.sparse_softmax_cross_entropy instead.\n",
      "\n"
     ]
    }
   ],
   "source": [
    "import tensorflow as tf\n",
    "from tensorflow.keras.models import Sequential\n",
    "from tensorflow.keras.layers import Dense"
   ]
  },
  {
   "cell_type": "markdown",
   "metadata": {},
   "source": [
    "### Define the ANN"
   ]
  },
  {
   "cell_type": "code",
   "execution_count": 21,
   "metadata": {},
   "outputs": [
    {
     "name": "stdout",
     "output_type": "stream",
     "text": [
      "WARNING:tensorflow:From c:\\Projekte\\Data_Science\\annclassification\\venv\\lib\\site-packages\\keras\\src\\backend.py:873: The name tf.get_default_graph is deprecated. Please use tf.compat.v1.get_default_graph instead.\n",
      "\n",
      "WARNING:tensorflow:From c:\\Projekte\\Data_Science\\annclassification\\venv\\lib\\site-packages\\keras\\src\\optimizers\\__init__.py:309: The name tf.train.Optimizer is deprecated. Please use tf.compat.v1.train.Optimizer instead.\n",
      "\n",
      "Model: \"sequential\"\n",
      "_________________________________________________________________\n",
      " Layer (type)                Output Shape              Param #   \n",
      "=================================================================\n",
      " dense (Dense)               (None, 64)                832       \n",
      "                                                                 \n",
      " dense_1 (Dense)             (None, 32)                2080      \n",
      "                                                                 \n",
      " dense_2 (Dense)             (None, 1)                 33        \n",
      "                                                                 \n",
      "=================================================================\n",
      "Total params: 2945 (11.50 KB)\n",
      "Trainable params: 2945 (11.50 KB)\n",
      "Non-trainable params: 0 (0.00 Byte)\n",
      "_________________________________________________________________\n"
     ]
    }
   ],
   "source": [
    "model = Sequential([\n",
    "    Dense(64, activation='relu', input_shape=(X_train.shape[1],)),\n",
    "    Dense(32, activation='relu'),\n",
    "    Dense(1)  # Output layer for regression\n",
    "])\n",
    "\n",
    "model.compile(optimizer='adam',loss='mean_absolute_error',metrics=['mae'])\n",
    "\n",
    "model.summary()"
   ]
  },
  {
   "cell_type": "markdown",
   "metadata": {},
   "source": [
    "### Set up Tensorboard"
   ]
  },
  {
   "cell_type": "code",
   "execution_count": 22,
   "metadata": {},
   "outputs": [],
   "source": [
    "from tensorflow.keras.callbacks import EarlyStopping, TensorBoard\n",
    "import datetime\n",
    "\n",
    "log_dir = \"regressionlogs/fit/\" + datetime.datetime.now().strftime(\"%Y%m%d-%H%M%S\")\n",
    "tensorboard_callback = TensorBoard(log_dir=log_dir, histogram_freq=1)"
   ]
  },
  {
   "cell_type": "markdown",
   "metadata": {},
   "source": [
    "### Set up Early Stopping"
   ]
  },
  {
   "cell_type": "code",
   "execution_count": 23,
   "metadata": {},
   "outputs": [],
   "source": [
    "early_stopping_callback = EarlyStopping(monitor='val_loss', patience=10, restore_best_weights=True)"
   ]
  },
  {
   "cell_type": "markdown",
   "metadata": {},
   "source": [
    "### Train the model"
   ]
  },
  {
   "cell_type": "code",
   "execution_count": 24,
   "metadata": {},
   "outputs": [
    {
     "name": "stdout",
     "output_type": "stream",
     "text": [
      "Epoch 1/100\n",
      "WARNING:tensorflow:From c:\\Projekte\\Data_Science\\annclassification\\venv\\lib\\site-packages\\keras\\src\\utils\\tf_utils.py:492: The name tf.ragged.RaggedTensorValue is deprecated. Please use tf.compat.v1.ragged.RaggedTensorValue instead.\n",
      "\n",
      "WARNING:tensorflow:From c:\\Projekte\\Data_Science\\annclassification\\venv\\lib\\site-packages\\keras\\src\\engine\\base_layer_utils.py:384: The name tf.executing_eagerly_outside_functions is deprecated. Please use tf.compat.v1.executing_eagerly_outside_functions instead.\n",
      "\n",
      "250/250 [==============================] - 3s 6ms/step - loss: 100389.6797 - mae: 100389.6797 - val_loss: 98565.6875 - val_mae: 98565.6875\n",
      "Epoch 2/100\n",
      "250/250 [==============================] - 1s 4ms/step - loss: 99821.8047 - mae: 99821.8047 - val_loss: 97420.0312 - val_mae: 97420.0312\n",
      "Epoch 3/100\n",
      "250/250 [==============================] - 1s 3ms/step - loss: 97825.8203 - mae: 97825.8203 - val_loss: 94478.7969 - val_mae: 94478.7969\n",
      "Epoch 4/100\n",
      "250/250 [==============================] - 1s 3ms/step - loss: 93834.7109 - mae: 93834.7109 - val_loss: 89436.8984 - val_mae: 89436.8984\n",
      "Epoch 5/100\n",
      "250/250 [==============================] - 1s 3ms/step - loss: 87812.4219 - mae: 87812.4219 - val_loss: 82625.5312 - val_mae: 82625.5312\n",
      "Epoch 6/100\n",
      "250/250 [==============================] - 1s 3ms/step - loss: 80279.9688 - mae: 80279.9688 - val_loss: 74842.7969 - val_mae: 74842.7969\n",
      "Epoch 7/100\n",
      "250/250 [==============================] - 1s 3ms/step - loss: 72229.7266 - mae: 72229.7266 - val_loss: 67325.1328 - val_mae: 67325.1328\n",
      "Epoch 8/100\n",
      "250/250 [==============================] - 1s 5ms/step - loss: 64746.3438 - mae: 64746.3438 - val_loss: 60920.3945 - val_mae: 60920.3945\n",
      "Epoch 9/100\n",
      "250/250 [==============================] - 1s 6ms/step - loss: 58705.8945 - mae: 58705.8945 - val_loss: 56158.4805 - val_mae: 56158.4805\n",
      "Epoch 10/100\n",
      "250/250 [==============================] - 1s 4ms/step - loss: 54633.7539 - mae: 54633.7539 - val_loss: 53251.0273 - val_mae: 53251.0273\n",
      "Epoch 11/100\n",
      "250/250 [==============================] - 1s 4ms/step - loss: 52287.8906 - mae: 52287.8906 - val_loss: 51925.4727 - val_mae: 51925.4727\n",
      "Epoch 12/100\n",
      "250/250 [==============================] - 1s 4ms/step - loss: 51165.9570 - mae: 51165.9570 - val_loss: 51388.2227 - val_mae: 51388.2227\n",
      "Epoch 13/100\n",
      "250/250 [==============================] - 1s 5ms/step - loss: 50682.8789 - mae: 50682.8789 - val_loss: 51168.6289 - val_mae: 51168.6289\n",
      "Epoch 14/100\n",
      "250/250 [==============================] - 2s 7ms/step - loss: 50456.6406 - mae: 50456.6406 - val_loss: 51056.6172 - val_mae: 51056.6172\n",
      "Epoch 15/100\n",
      "250/250 [==============================] - 1s 4ms/step - loss: 50326.2109 - mae: 50326.2109 - val_loss: 50994.3711 - val_mae: 50994.3711\n",
      "Epoch 16/100\n",
      "250/250 [==============================] - 1s 3ms/step - loss: 50243.2578 - mae: 50243.2578 - val_loss: 50941.6875 - val_mae: 50941.6875\n",
      "Epoch 17/100\n",
      "250/250 [==============================] - 1s 4ms/step - loss: 50174.8867 - mae: 50174.8867 - val_loss: 50896.0078 - val_mae: 50896.0078\n",
      "Epoch 18/100\n",
      "250/250 [==============================] - 1s 3ms/step - loss: 50124.3789 - mae: 50124.3789 - val_loss: 50853.3164 - val_mae: 50853.3164\n",
      "Epoch 19/100\n",
      "250/250 [==============================] - 1s 3ms/step - loss: 50078.3477 - mae: 50078.3477 - val_loss: 50823.1680 - val_mae: 50823.1680\n",
      "Epoch 20/100\n",
      "250/250 [==============================] - 1s 3ms/step - loss: 50033.9375 - mae: 50033.9375 - val_loss: 50785.8203 - val_mae: 50785.8203\n",
      "Epoch 21/100\n",
      "250/250 [==============================] - 1s 4ms/step - loss: 49996.1836 - mae: 49996.1836 - val_loss: 50752.8633 - val_mae: 50752.8633\n",
      "Epoch 22/100\n",
      "250/250 [==============================] - 1s 4ms/step - loss: 49964.3086 - mae: 49964.3086 - val_loss: 50722.4102 - val_mae: 50722.4102\n",
      "Epoch 23/100\n",
      "250/250 [==============================] - 1s 4ms/step - loss: 49931.0195 - mae: 49931.0195 - val_loss: 50695.1758 - val_mae: 50695.1758\n",
      "Epoch 24/100\n",
      "250/250 [==============================] - 1s 5ms/step - loss: 49903.3320 - mae: 49903.3320 - val_loss: 50669.4570 - val_mae: 50669.4570\n",
      "Epoch 25/100\n",
      "250/250 [==============================] - 1s 5ms/step - loss: 49876.4375 - mae: 49876.4375 - val_loss: 50642.2344 - val_mae: 50642.2344\n",
      "Epoch 26/100\n",
      "250/250 [==============================] - 1s 5ms/step - loss: 49852.5430 - mae: 49852.5430 - val_loss: 50632.6680 - val_mae: 50632.6680\n",
      "Epoch 27/100\n",
      "250/250 [==============================] - 1s 4ms/step - loss: 49830.2031 - mae: 49830.2031 - val_loss: 50611.5547 - val_mae: 50611.5547\n",
      "Epoch 28/100\n",
      "250/250 [==============================] - 1s 3ms/step - loss: 49810.2031 - mae: 49810.2031 - val_loss: 50602.0586 - val_mae: 50602.0586\n",
      "Epoch 29/100\n",
      "250/250 [==============================] - 1s 4ms/step - loss: 49788.6367 - mae: 49788.6367 - val_loss: 50586.0078 - val_mae: 50586.0078\n",
      "Epoch 30/100\n",
      "250/250 [==============================] - 1s 3ms/step - loss: 49771.8906 - mae: 49771.8906 - val_loss: 50564.7617 - val_mae: 50564.7617\n",
      "Epoch 31/100\n",
      "250/250 [==============================] - 1s 3ms/step - loss: 49752.2070 - mae: 49752.2070 - val_loss: 50549.4375 - val_mae: 50549.4375\n",
      "Epoch 32/100\n",
      "250/250 [==============================] - 1s 3ms/step - loss: 49734.9453 - mae: 49734.9453 - val_loss: 50543.1523 - val_mae: 50543.1523\n",
      "Epoch 33/100\n",
      "250/250 [==============================] - 1s 3ms/step - loss: 49717.5312 - mae: 49717.5312 - val_loss: 50522.3164 - val_mae: 50522.3164\n",
      "Epoch 34/100\n",
      "250/250 [==============================] - 1s 4ms/step - loss: 49707.3867 - mae: 49707.3867 - val_loss: 50516.6758 - val_mae: 50516.6758\n",
      "Epoch 35/100\n",
      "250/250 [==============================] - 1s 4ms/step - loss: 49690.1719 - mae: 49690.1719 - val_loss: 50498.7461 - val_mae: 50498.7461\n",
      "Epoch 36/100\n",
      "250/250 [==============================] - 1s 4ms/step - loss: 49677.6719 - mae: 49677.6719 - val_loss: 50492.7578 - val_mae: 50492.7578\n",
      "Epoch 37/100\n",
      "250/250 [==============================] - 1s 4ms/step - loss: 49666.8477 - mae: 49666.8477 - val_loss: 50477.6328 - val_mae: 50477.6328\n",
      "Epoch 38/100\n",
      "250/250 [==============================] - 1s 4ms/step - loss: 49651.8984 - mae: 49651.8984 - val_loss: 50472.4648 - val_mae: 50472.4648\n",
      "Epoch 39/100\n",
      "250/250 [==============================] - 1s 3ms/step - loss: 49641.4805 - mae: 49641.4805 - val_loss: 50463.7305 - val_mae: 50463.7305\n",
      "Epoch 40/100\n",
      "250/250 [==============================] - 1s 2ms/step - loss: 49634.9023 - mae: 49634.9023 - val_loss: 50458.7812 - val_mae: 50458.7812\n",
      "Epoch 41/100\n",
      "250/250 [==============================] - 1s 2ms/step - loss: 49617.9570 - mae: 49617.9570 - val_loss: 50452.3477 - val_mae: 50452.3477\n",
      "Epoch 42/100\n",
      "250/250 [==============================] - 1s 2ms/step - loss: 49610.2031 - mae: 49610.2031 - val_loss: 50443.7266 - val_mae: 50443.7266\n",
      "Epoch 43/100\n",
      "250/250 [==============================] - 0s 2ms/step - loss: 49598.5664 - mae: 49598.5664 - val_loss: 50444.6836 - val_mae: 50444.6836\n",
      "Epoch 44/100\n",
      "250/250 [==============================] - 0s 2ms/step - loss: 49588.4062 - mae: 49588.4062 - val_loss: 50431.1445 - val_mae: 50431.1445\n",
      "Epoch 45/100\n",
      "250/250 [==============================] - 1s 2ms/step - loss: 49580.6602 - mae: 49580.6602 - val_loss: 50428.1406 - val_mae: 50428.1406\n",
      "Epoch 46/100\n",
      "250/250 [==============================] - 0s 2ms/step - loss: 49571.4570 - mae: 49571.4570 - val_loss: 50422.1094 - val_mae: 50422.1094\n",
      "Epoch 47/100\n",
      "250/250 [==============================] - 0s 2ms/step - loss: 49563.6094 - mae: 49563.6094 - val_loss: 50407.8008 - val_mae: 50407.8008\n",
      "Epoch 48/100\n",
      "250/250 [==============================] - 1s 2ms/step - loss: 49553.4844 - mae: 49553.4844 - val_loss: 50410.4297 - val_mae: 50410.4297\n",
      "Epoch 49/100\n",
      "250/250 [==============================] - 1s 2ms/step - loss: 49547.6562 - mae: 49547.6562 - val_loss: 50402.0547 - val_mae: 50402.0547\n",
      "Epoch 50/100\n",
      "250/250 [==============================] - 1s 2ms/step - loss: 49538.9727 - mae: 49538.9727 - val_loss: 50403.5781 - val_mae: 50403.5781\n",
      "Epoch 51/100\n",
      "250/250 [==============================] - 1s 3ms/step - loss: 49531.7266 - mae: 49531.7266 - val_loss: 50401.1172 - val_mae: 50401.1172\n",
      "Epoch 52/100\n",
      "250/250 [==============================] - 1s 2ms/step - loss: 49523.4141 - mae: 49523.4141 - val_loss: 50406.3984 - val_mae: 50406.3984\n",
      "Epoch 53/100\n",
      "250/250 [==============================] - 1s 2ms/step - loss: 49518.8281 - mae: 49518.8281 - val_loss: 50400.9062 - val_mae: 50400.9062\n",
      "Epoch 54/100\n",
      "250/250 [==============================] - 1s 2ms/step - loss: 49511.6523 - mae: 49511.6523 - val_loss: 50398.2969 - val_mae: 50398.2969\n",
      "Epoch 55/100\n",
      "250/250 [==============================] - 1s 2ms/step - loss: 49505.1992 - mae: 49505.1992 - val_loss: 50398.8711 - val_mae: 50398.8711\n",
      "Epoch 56/100\n",
      "250/250 [==============================] - 1s 2ms/step - loss: 49500.6602 - mae: 49500.6602 - val_loss: 50401.6602 - val_mae: 50401.6602\n",
      "Epoch 57/100\n",
      "250/250 [==============================] - 1s 2ms/step - loss: 49493.6211 - mae: 49493.6211 - val_loss: 50392.2188 - val_mae: 50392.2188\n",
      "Epoch 58/100\n",
      "250/250 [==============================] - 0s 2ms/step - loss: 49488.7578 - mae: 49488.7578 - val_loss: 50391.8242 - val_mae: 50391.8242\n",
      "Epoch 59/100\n",
      "250/250 [==============================] - 0s 2ms/step - loss: 49483.8164 - mae: 49483.8164 - val_loss: 50399.5742 - val_mae: 50399.5742\n",
      "Epoch 60/100\n",
      "250/250 [==============================] - 1s 2ms/step - loss: 49478.7422 - mae: 49478.7422 - val_loss: 50387.1914 - val_mae: 50387.1914\n",
      "Epoch 61/100\n",
      "250/250 [==============================] - 0s 2ms/step - loss: 49468.4336 - mae: 49468.4336 - val_loss: 50386.8828 - val_mae: 50386.8828\n",
      "Epoch 62/100\n",
      "250/250 [==============================] - 1s 2ms/step - loss: 49464.9609 - mae: 49464.9609 - val_loss: 50384.2969 - val_mae: 50384.2969\n",
      "Epoch 63/100\n",
      "250/250 [==============================] - 0s 2ms/step - loss: 49461.3594 - mae: 49461.3594 - val_loss: 50387.3555 - val_mae: 50387.3555\n",
      "Epoch 64/100\n",
      "250/250 [==============================] - 1s 2ms/step - loss: 49455.7188 - mae: 49455.7188 - val_loss: 50386.7422 - val_mae: 50386.7422\n",
      "Epoch 65/100\n",
      "250/250 [==============================] - 1s 2ms/step - loss: 49452.3359 - mae: 49452.3359 - val_loss: 50387.4375 - val_mae: 50387.4375\n",
      "Epoch 66/100\n",
      "250/250 [==============================] - 1s 2ms/step - loss: 49446.5273 - mae: 49446.5273 - val_loss: 50380.9023 - val_mae: 50380.9023\n",
      "Epoch 67/100\n",
      "250/250 [==============================] - 1s 3ms/step - loss: 49440.4219 - mae: 49440.4219 - val_loss: 50394.3711 - val_mae: 50394.3711\n",
      "Epoch 68/100\n",
      "250/250 [==============================] - 1s 2ms/step - loss: 49436.1133 - mae: 49436.1133 - val_loss: 50386.9648 - val_mae: 50386.9648\n",
      "Epoch 69/100\n",
      "250/250 [==============================] - 1s 2ms/step - loss: 49434.0156 - mae: 49434.0156 - val_loss: 50377.5273 - val_mae: 50377.5273\n",
      "Epoch 70/100\n",
      "250/250 [==============================] - 0s 2ms/step - loss: 49427.0625 - mae: 49427.0625 - val_loss: 50384.7891 - val_mae: 50384.7891\n",
      "Epoch 71/100\n",
      "250/250 [==============================] - 0s 2ms/step - loss: 49420.7617 - mae: 49420.7617 - val_loss: 50381.2969 - val_mae: 50381.2969\n",
      "Epoch 72/100\n",
      "250/250 [==============================] - 0s 2ms/step - loss: 49420.0078 - mae: 49420.0078 - val_loss: 50382.7852 - val_mae: 50382.7852\n",
      "Epoch 73/100\n",
      "250/250 [==============================] - 1s 3ms/step - loss: 49413.0273 - mae: 49413.0273 - val_loss: 50378.0391 - val_mae: 50378.0391\n",
      "Epoch 74/100\n",
      "250/250 [==============================] - 0s 2ms/step - loss: 49409.2305 - mae: 49409.2305 - val_loss: 50375.0312 - val_mae: 50375.0312\n",
      "Epoch 75/100\n",
      "250/250 [==============================] - 0s 2ms/step - loss: 49406.6914 - mae: 49406.6914 - val_loss: 50375.5703 - val_mae: 50375.5703\n",
      "Epoch 76/100\n",
      "250/250 [==============================] - 0s 2ms/step - loss: 49402.8867 - mae: 49402.8867 - val_loss: 50373.8086 - val_mae: 50373.8086\n",
      "Epoch 77/100\n",
      "250/250 [==============================] - 0s 2ms/step - loss: 49401.6094 - mae: 49401.6094 - val_loss: 50378.1562 - val_mae: 50378.1562\n",
      "Epoch 78/100\n",
      "250/250 [==============================] - 1s 4ms/step - loss: 49395.0117 - mae: 49395.0117 - val_loss: 50371.7656 - val_mae: 50371.7656\n",
      "Epoch 79/100\n",
      "250/250 [==============================] - 1s 2ms/step - loss: 49387.2891 - mae: 49387.2891 - val_loss: 50371.9727 - val_mae: 50371.9727\n",
      "Epoch 80/100\n",
      "250/250 [==============================] - 1s 2ms/step - loss: 49386.8672 - mae: 49386.8672 - val_loss: 50374.5898 - val_mae: 50374.5898\n",
      "Epoch 81/100\n",
      "250/250 [==============================] - 1s 4ms/step - loss: 49385.2930 - mae: 49385.2930 - val_loss: 50379.3320 - val_mae: 50379.3320\n",
      "Epoch 82/100\n",
      "250/250 [==============================] - 1s 3ms/step - loss: 49380.3047 - mae: 49380.3047 - val_loss: 50378.1250 - val_mae: 50378.1250\n",
      "Epoch 83/100\n",
      "250/250 [==============================] - 1s 4ms/step - loss: 49380.0898 - mae: 49380.0898 - val_loss: 50385.2969 - val_mae: 50385.2969\n",
      "Epoch 84/100\n",
      "250/250 [==============================] - 1s 3ms/step - loss: 49373.1211 - mae: 49373.1211 - val_loss: 50385.7656 - val_mae: 50385.7656\n",
      "Epoch 85/100\n",
      "250/250 [==============================] - 1s 2ms/step - loss: 49370.6641 - mae: 49370.6641 - val_loss: 50387.3633 - val_mae: 50387.3633\n",
      "Epoch 86/100\n",
      "250/250 [==============================] - 1s 2ms/step - loss: 49369.1406 - mae: 49369.1406 - val_loss: 50384.3359 - val_mae: 50384.3359\n",
      "Epoch 87/100\n",
      "250/250 [==============================] - 1s 2ms/step - loss: 49364.9961 - mae: 49364.9961 - val_loss: 50389.6562 - val_mae: 50389.6562\n",
      "Epoch 88/100\n",
      "250/250 [==============================] - 1s 2ms/step - loss: 49361.4883 - mae: 49361.4883 - val_loss: 50386.4688 - val_mae: 50386.4688\n"
     ]
    }
   ],
   "source": [
    "history = model.fit(\n",
    "    X_train, y_train,\n",
    "    validation_data=(X_test, y_test),\n",
    "    epochs=100,\n",
    "    callbacks=[early_stopping_callback, tensorboard_callback]\n",
    ")"
   ]
  },
  {
   "cell_type": "code",
   "execution_count": 26,
   "metadata": {},
   "outputs": [
    {
     "name": "stderr",
     "output_type": "stream",
     "text": [
      "c:\\Projekte\\Data_Science\\annclassification\\venv\\lib\\site-packages\\keras\\src\\engine\\training.py:3103: UserWarning: You are saving your model as an HDF5 file via `model.save()`. This file format is considered legacy. We recommend using instead the native Keras format, e.g. `model.save('my_model.keras')`.\n",
      "  saving_api.save_model(\n"
     ]
    }
   ],
   "source": [
    "model.save(\"models_regression/model.h5\")"
   ]
  },
  {
   "cell_type": "markdown",
   "metadata": {},
   "source": [
    "### Use Tensorboard"
   ]
  },
  {
   "cell_type": "code",
   "execution_count": 27,
   "metadata": {},
   "outputs": [],
   "source": [
    "%load_ext tensorboard"
   ]
  },
  {
   "cell_type": "code",
   "execution_count": 30,
   "metadata": {},
   "outputs": [
    {
     "data": {
      "text/html": [
       "\n",
       "      <iframe id=\"tensorboard-frame-6d32c0a529643366\" width=\"100%\" height=\"800\" frameborder=\"0\">\n",
       "      </iframe>\n",
       "      <script>\n",
       "        (function() {\n",
       "          const frame = document.getElementById(\"tensorboard-frame-6d32c0a529643366\");\n",
       "          const url = new URL(\"/\", window.location);\n",
       "          const port = 6011;\n",
       "          if (port) {\n",
       "            url.port = port;\n",
       "          }\n",
       "          frame.src = url;\n",
       "        })();\n",
       "      </script>\n",
       "    "
      ],
      "text/plain": [
       "<IPython.core.display.HTML object>"
      ]
     },
     "metadata": {},
     "output_type": "display_data"
    }
   ],
   "source": [
    "%tensorboard --logdir regressionlogs/fit/20241030-152753"
   ]
  },
  {
   "cell_type": "markdown",
   "metadata": {},
   "source": [
    "## Evaluate model on the test data"
   ]
  },
  {
   "cell_type": "code",
   "execution_count": 31,
   "metadata": {},
   "outputs": [
    {
     "name": "stdout",
     "output_type": "stream",
     "text": [
      "63/63 [==============================] - 0s 1ms/step - loss: 50371.7656 - mae: 50371.7656\n",
      "Test MAE : 50371.765625\n"
     ]
    }
   ],
   "source": [
    "test_loss,test_mae=model.evaluate(X_test,y_test)\n",
    "print(f'Test MAE : {test_mae}')"
   ]
  }
 ],
 "metadata": {
  "kernelspec": {
   "display_name": "Python 3",
   "language": "python",
   "name": "python3"
  },
  "language_info": {
   "codemirror_mode": {
    "name": "ipython",
    "version": 3
   },
   "file_extension": ".py",
   "mimetype": "text/x-python",
   "name": "python",
   "nbconvert_exporter": "python",
   "pygments_lexer": "ipython3",
   "version": "3.10.0"
  }
 },
 "nbformat": 4,
 "nbformat_minor": 2
}
